{
  "nbformat": 4,
  "nbformat_minor": 0,
  "metadata": {
    "colab": {
      "name": "redditdata.ipynb",
      "provenance": []
    },
    "kernelspec": {
      "name": "python3",
      "display_name": "Python 3"
    }
  },
  "cells": [
    {
      "cell_type": "code",
      "metadata": {
        "id": "SRvC1BvtGg81",
        "colab_type": "code",
        "colab": {}
      },
      "source": [
        "import os\n",
        "os.chdir(\"drive/My Drive/reddit\")\n"
      ],
      "execution_count": 0,
      "outputs": []
    },
    {
      "cell_type": "code",
      "metadata": {
        "id": "-aGpCu18HTXj",
        "colab_type": "code",
        "colab": {
          "base_uri": "https://localhost:8080/",
          "height": 202
        },
        "outputId": "b17cbe68-ae96-437c-bf9e-6b4468e27872"
      },
      "source": [
        "import pandas as pd\n",
        "import numpy as np\n",
        "df = pd.read_csv('rindia_ver2.csv')\n",
        "df.head()"
      ],
      "execution_count": 3,
      "outputs": [
        {
          "output_type": "execute_result",
          "data": {
            "text/html": [
              "<div>\n",
              "<style scoped>\n",
              "    .dataframe tbody tr th:only-of-type {\n",
              "        vertical-align: middle;\n",
              "    }\n",
              "\n",
              "    .dataframe tbody tr th {\n",
              "        vertical-align: top;\n",
              "    }\n",
              "\n",
              "    .dataframe thead th {\n",
              "        text-align: right;\n",
              "    }\n",
              "</style>\n",
              "<table border=\"1\" class=\"dataframe\">\n",
              "  <thead>\n",
              "    <tr style=\"text-align: right;\">\n",
              "      <th></th>\n",
              "      <th>ID</th>\n",
              "      <th>Title</th>\n",
              "      <th>Author</th>\n",
              "      <th>Date</th>\n",
              "      <th>Post</th>\n",
              "      <th>Flair</th>\n",
              "    </tr>\n",
              "  </thead>\n",
              "  <tbody>\n",
              "    <tr>\n",
              "      <th>0</th>\n",
              "      <td>5lcsj7</td>\n",
              "      <td>Still 97 per cent support Modi over demonetisa...</td>\n",
              "      <td>72VirginPimp</td>\n",
              "      <td>01-01-2017 06:44</td>\n",
              "      <td>NaN</td>\n",
              "      <td>Demonetization</td>\n",
              "    </tr>\n",
              "    <tr>\n",
              "      <th>1</th>\n",
              "      <td>5lct38</td>\n",
              "      <td>Amazon starts p2p selling in Bangalore competi...</td>\n",
              "      <td>jkicha</td>\n",
              "      <td>01-01-2017 06:47</td>\n",
              "      <td>NaN</td>\n",
              "      <td>Self-promotion.</td>\n",
              "    </tr>\n",
              "    <tr>\n",
              "      <th>2</th>\n",
              "      <td>5lcwlv</td>\n",
              "      <td>Indian Idol 31 December 2016 Full Episode</td>\n",
              "      <td>[deleted]</td>\n",
              "      <td>01-01-2017 07:11</td>\n",
              "      <td>[deleted]</td>\n",
              "      <td>Entertainment</td>\n",
              "    </tr>\n",
              "    <tr>\n",
              "      <th>3</th>\n",
              "      <td>5lcxpz</td>\n",
              "      <td>Preacher for pm?</td>\n",
              "      <td>[deleted]</td>\n",
              "      <td>01-01-2017 07:18</td>\n",
              "      <td>[removed]</td>\n",
              "      <td>NaN</td>\n",
              "    </tr>\n",
              "    <tr>\n",
              "      <th>4</th>\n",
              "      <td>5lcxxt</td>\n",
              "      <td>♡ Happy New Year 2017 ♡</td>\n",
              "      <td>[deleted]</td>\n",
              "      <td>01-01-2017 07:20</td>\n",
              "      <td>[deleted]</td>\n",
              "      <td>Not in English.</td>\n",
              "    </tr>\n",
              "  </tbody>\n",
              "</table>\n",
              "</div>"
            ],
            "text/plain": [
              "       ID  ...            Flair\n",
              "0  5lcsj7  ...   Demonetization\n",
              "1  5lct38  ...  Self-promotion.\n",
              "2  5lcwlv  ...    Entertainment\n",
              "3  5lcxpz  ...              NaN\n",
              "4  5lcxxt  ...  Not in English.\n",
              "\n",
              "[5 rows x 6 columns]"
            ]
          },
          "metadata": {
            "tags": []
          },
          "execution_count": 3
        }
      ]
    },
    {
      "cell_type": "code",
      "metadata": {
        "id": "9VrP95EsHszU",
        "colab_type": "code",
        "colab": {
          "base_uri": "https://localhost:8080/",
          "height": 139
        },
        "outputId": "ed62fd2b-29d0-40af-e859-cd9de6bdb019"
      },
      "source": [
        "df.dropna(subset = ['Flair'], inplace = True)\n",
        "df.isnull().sum()"
      ],
      "execution_count": 4,
      "outputs": [
        {
          "output_type": "execute_result",
          "data": {
            "text/plain": [
              "ID             0\n",
              "Title          1\n",
              "Author         0\n",
              "Date           0\n",
              "Post      265639\n",
              "Flair          0\n",
              "dtype: int64"
            ]
          },
          "metadata": {
            "tags": []
          },
          "execution_count": 4
        }
      ]
    },
    {
      "cell_type": "code",
      "metadata": {
        "id": "JjRF3E-4OPnG",
        "colab_type": "code",
        "colab": {
          "base_uri": "https://localhost:8080/",
          "height": 35
        },
        "outputId": "0908a3c6-0863-4397-8f71-c2a4cee95917"
      },
      "source": [
        "len(df)"
      ],
      "execution_count": 5,
      "outputs": [
        {
          "output_type": "execute_result",
          "data": {
            "text/plain": [
              "369738"
            ]
          },
          "metadata": {
            "tags": []
          },
          "execution_count": 5
        }
      ]
    },
    {
      "cell_type": "code",
      "metadata": {
        "id": "aBV9_aaJKGVY",
        "colab_type": "code",
        "colab": {
          "base_uri": "https://localhost:8080/",
          "height": 289
        },
        "outputId": "c6e2e41b-24d9-4f54-b88a-a4a6effbb240"
      },
      "source": [
        "count = 0\n",
        "for i in df[\"Flair\"].value_counts():\n",
        "  if i > 10000:\n",
        "    count += 1\n",
        "  else : \n",
        "    break\n",
        "labels = df[\"Flair\"].value_counts()[:count]\n",
        "def dummy(i):\n",
        "  if i in labels:\n",
        "    return True\n",
        "  else:\n",
        "    return False\n",
        "df['Filter'] = df[\"Flair\"].map(dummy)\n",
        "df.head()\n",
        "\n",
        "\n"
      ],
      "execution_count": 6,
      "outputs": [
        {
          "output_type": "execute_result",
          "data": {
            "text/html": [
              "<div>\n",
              "<style scoped>\n",
              "    .dataframe tbody tr th:only-of-type {\n",
              "        vertical-align: middle;\n",
              "    }\n",
              "\n",
              "    .dataframe tbody tr th {\n",
              "        vertical-align: top;\n",
              "    }\n",
              "\n",
              "    .dataframe thead th {\n",
              "        text-align: right;\n",
              "    }\n",
              "</style>\n",
              "<table border=\"1\" class=\"dataframe\">\n",
              "  <thead>\n",
              "    <tr style=\"text-align: right;\">\n",
              "      <th></th>\n",
              "      <th>ID</th>\n",
              "      <th>Title</th>\n",
              "      <th>Author</th>\n",
              "      <th>Date</th>\n",
              "      <th>Post</th>\n",
              "      <th>Flair</th>\n",
              "      <th>Filter</th>\n",
              "    </tr>\n",
              "  </thead>\n",
              "  <tbody>\n",
              "    <tr>\n",
              "      <th>0</th>\n",
              "      <td>5lcsj7</td>\n",
              "      <td>Still 97 per cent support Modi over demonetisa...</td>\n",
              "      <td>72VirginPimp</td>\n",
              "      <td>01-01-2017 06:44</td>\n",
              "      <td>NaN</td>\n",
              "      <td>Demonetization</td>\n",
              "      <td>False</td>\n",
              "    </tr>\n",
              "    <tr>\n",
              "      <th>1</th>\n",
              "      <td>5lct38</td>\n",
              "      <td>Amazon starts p2p selling in Bangalore competi...</td>\n",
              "      <td>jkicha</td>\n",
              "      <td>01-01-2017 06:47</td>\n",
              "      <td>NaN</td>\n",
              "      <td>Self-promotion.</td>\n",
              "      <td>False</td>\n",
              "    </tr>\n",
              "    <tr>\n",
              "      <th>2</th>\n",
              "      <td>5lcwlv</td>\n",
              "      <td>Indian Idol 31 December 2016 Full Episode</td>\n",
              "      <td>[deleted]</td>\n",
              "      <td>01-01-2017 07:11</td>\n",
              "      <td>[deleted]</td>\n",
              "      <td>Entertainment</td>\n",
              "      <td>False</td>\n",
              "    </tr>\n",
              "    <tr>\n",
              "      <th>4</th>\n",
              "      <td>5lcxxt</td>\n",
              "      <td>♡ Happy New Year 2017 ♡</td>\n",
              "      <td>[deleted]</td>\n",
              "      <td>01-01-2017 07:20</td>\n",
              "      <td>[deleted]</td>\n",
              "      <td>Not in English.</td>\n",
              "      <td>False</td>\n",
              "    </tr>\n",
              "    <tr>\n",
              "      <th>5</th>\n",
              "      <td>5lcz4n</td>\n",
              "      <td>[P] Preacher for a PM ?</td>\n",
              "      <td>Preacherm</td>\n",
              "      <td>01-01-2017 07:28</td>\n",
              "      <td>[removed]</td>\n",
              "      <td>Unsourced Assertion.</td>\n",
              "      <td>False</td>\n",
              "    </tr>\n",
              "  </tbody>\n",
              "</table>\n",
              "</div>"
            ],
            "text/plain": [
              "       ID  ... Filter\n",
              "0  5lcsj7  ...  False\n",
              "1  5lct38  ...  False\n",
              "2  5lcwlv  ...  False\n",
              "4  5lcxxt  ...  False\n",
              "5  5lcz4n  ...  False\n",
              "\n",
              "[5 rows x 7 columns]"
            ]
          },
          "metadata": {
            "tags": []
          },
          "execution_count": 6
        }
      ]
    },
    {
      "cell_type": "code",
      "metadata": {
        "id": "BHFNLz2XOWDb",
        "colab_type": "code",
        "colab": {
          "base_uri": "https://localhost:8080/",
          "height": 139
        },
        "outputId": "7610ebc6-546d-409f-a9ad-9627ce8fd311"
      },
      "source": [
        "labels"
      ],
      "execution_count": 7,
      "outputs": [
        {
          "output_type": "execute_result",
          "data": {
            "text/plain": [
              "Non-Political         98703\n",
              "Politics              97497\n",
              "AskIndia              47464\n",
              "Policy/Economy        20935\n",
              "Business/Finance      19654\n",
              "Science/Technology    16187\n",
              "Name: Flair, dtype: int64"
            ]
          },
          "metadata": {
            "tags": []
          },
          "execution_count": 7
        }
      ]
    },
    {
      "cell_type": "code",
      "metadata": {
        "id": "FPb3lhlqOFKo",
        "colab_type": "code",
        "colab": {
          "base_uri": "https://localhost:8080/",
          "height": 375
        },
        "outputId": "32ac77c2-17cf-42f4-c0f5-a316d1d89b70"
      },
      "source": [
        "reduced_df = df[df[\"Filter\"]]\n",
        "reduced_df.head()"
      ],
      "execution_count": 8,
      "outputs": [
        {
          "output_type": "execute_result",
          "data": {
            "text/html": [
              "<div>\n",
              "<style scoped>\n",
              "    .dataframe tbody tr th:only-of-type {\n",
              "        vertical-align: middle;\n",
              "    }\n",
              "\n",
              "    .dataframe tbody tr th {\n",
              "        vertical-align: top;\n",
              "    }\n",
              "\n",
              "    .dataframe thead th {\n",
              "        text-align: right;\n",
              "    }\n",
              "</style>\n",
              "<table border=\"1\" class=\"dataframe\">\n",
              "  <thead>\n",
              "    <tr style=\"text-align: right;\">\n",
              "      <th></th>\n",
              "      <th>ID</th>\n",
              "      <th>Title</th>\n",
              "      <th>Author</th>\n",
              "      <th>Date</th>\n",
              "      <th>Post</th>\n",
              "      <th>Flair</th>\n",
              "      <th>Filter</th>\n",
              "    </tr>\n",
              "  </thead>\n",
              "  <tbody>\n",
              "    <tr>\n",
              "      <th>8</th>\n",
              "      <td>5ld227</td>\n",
              "      <td>People who went partying out tonight:</td>\n",
              "      <td>ooops_i_did_it_again</td>\n",
              "      <td>01-01-2017 07:48</td>\n",
              "      <td>Dear randians, since everyone is asking loners...</td>\n",
              "      <td>AskIndia</td>\n",
              "      <td>True</td>\n",
              "    </tr>\n",
              "    <tr>\n",
              "      <th>11</th>\n",
              "      <td>5ld4tn</td>\n",
              "      <td>Record 25 Per Cent Rise In Number Of Indian St...</td>\n",
              "      <td>curiousgeek123</td>\n",
              "      <td>01-01-2017 08:08</td>\n",
              "      <td>NaN</td>\n",
              "      <td>Non-Political</td>\n",
              "      <td>True</td>\n",
              "    </tr>\n",
              "    <tr>\n",
              "      <th>12</th>\n",
              "      <td>5ld9hf</td>\n",
              "      <td>A year of outrageous lies: From economic growt...</td>\n",
              "      <td>udi_baaba</td>\n",
              "      <td>01-01-2017 08:42</td>\n",
              "      <td>NaN</td>\n",
              "      <td>Politics</td>\n",
              "      <td>True</td>\n",
              "    </tr>\n",
              "    <tr>\n",
              "      <th>13</th>\n",
              "      <td>5ldbjh</td>\n",
              "      <td>Bhopal Gas Tragedy | World's Worst Industrial ...</td>\n",
              "      <td>[deleted]</td>\n",
              "      <td>01-01-2017 08:58</td>\n",
              "      <td>NaN</td>\n",
              "      <td>Non-Political</td>\n",
              "      <td>True</td>\n",
              "    </tr>\n",
              "    <tr>\n",
              "      <th>15</th>\n",
              "      <td>5ldcop</td>\n",
              "      <td>Indian in Saudi Arabia arrested on charges of ...</td>\n",
              "      <td>TemptNotTheBlade</td>\n",
              "      <td>01-01-2017 09:07</td>\n",
              "      <td>NaN</td>\n",
              "      <td>Non-Political</td>\n",
              "      <td>True</td>\n",
              "    </tr>\n",
              "  </tbody>\n",
              "</table>\n",
              "</div>"
            ],
            "text/plain": [
              "        ID  ... Filter\n",
              "8   5ld227  ...   True\n",
              "11  5ld4tn  ...   True\n",
              "12  5ld9hf  ...   True\n",
              "13  5ldbjh  ...   True\n",
              "15  5ldcop  ...   True\n",
              "\n",
              "[5 rows x 7 columns]"
            ]
          },
          "metadata": {
            "tags": []
          },
          "execution_count": 8
        }
      ]
    },
    {
      "cell_type": "code",
      "metadata": {
        "id": "nKUZoIOoIYFB",
        "colab_type": "code",
        "colab": {
          "base_uri": "https://localhost:8080/",
          "height": 910
        },
        "outputId": "ae93a0ce-4b11-4034-99d5-7e5c2cb2bc5e"
      },
      "source": [
        "%matplotlib inline\n",
        "import matplotlib.pyplot as plt\n",
        "import seaborn as sns\n",
        "lab = labels.index\n",
        "sizes = labels.values\n",
        " \n",
        "fig1, ax1 = plt.subplots(figsize = (15,15))\n",
        "ax1.pie(sizes, explode=None, labels=lab, autopct='%1.1f%%',\n",
        "        shadow=True, startangle=90)\n",
        "ax1.axis('equal')  \n",
        "plt.tight_layout()\n",
        "plt.show()"
      ],
      "execution_count": 9,
      "outputs": [
        {
          "output_type": "stream",
          "text": [
            "/usr/local/lib/python3.6/dist-packages/statsmodels/tools/_testing.py:19: FutureWarning: pandas.util.testing is deprecated. Use the functions in the public API at pandas.testing instead.\n",
            "  import pandas.util.testing as tm\n"
          ],
          "name": "stderr"
        },
        {
          "output_type": "display_data",
          "data": {
            "image/png": "[encoded data removed]",
            "text/plain": [
              "<Figure size 1080x1080 with 1 Axes>"
            ]
          },
          "metadata": {
            "tags": []
          }
        }
      ]
    },
    {
      "cell_type": "code",
      "metadata": {
        "id": "sw5Ag_wVPUXK",
        "colab_type": "code",
        "colab": {}
      },
      "source": [
        "import nltk\n",
        "#nltk.download('wordnet')\n",
        "from nltk.tokenize import RegexpTokenizer\n",
        "from nltk.corpus import stopwords\n",
        "from nltk.stem import PorterStemmer \n",
        "from nltk.stem import WordNetLemmatizer \n",
        "\n",
        "\n",
        "stop_words =set(stopwords.words(\"english\"))\n",
        "lemmatizer = WordNetLemmatizer() \n",
        "tokenizer = RegexpTokenizer(r'\\w+')\n",
        "def preprocess(text):\n",
        "  word_list = []\n",
        "  tok = tokenizer.tokenize(text)\n",
        "  for word in tok:\n",
        "    if word not in stop_words:\n",
        "      word_list.append(lemmatizer.lemmatize(word))\n",
        "  return \" \".join(word_list)"
      ],
      "execution_count": 0,
      "outputs": []
    },
    {
      "cell_type": "code",
      "metadata": {
        "id": "Dv-a5c7xS4Hx",
        "colab_type": "code",
        "colab": {
          "base_uri": "https://localhost:8080/",
          "height": 499
        },
        "outputId": "825c3a0d-ddf8-4361-bcbf-688818800b98"
      },
      "source": [
        "reduced_df['Title'] = reduced_df['Title'].apply(preprocess)\n",
        "reduced_df.head()"
      ],
      "execution_count": 11,
      "outputs": [
        {
          "output_type": "stream",
          "text": [
            "/usr/local/lib/python3.6/dist-packages/ipykernel_launcher.py:1: SettingWithCopyWarning: \n",
            "A value is trying to be set on a copy of a slice from a DataFrame.\n",
            "Try using .loc[row_indexer,col_indexer] = value instead\n",
            "\n",
            "See the caveats in the documentation: https://pandas.pydata.org/pandas-docs/stable/user_guide/indexing.html#returning-a-view-versus-a-copy\n",
            "  \"\"\"Entry point for launching an IPython kernel.\n"
          ],
          "name": "stderr"
        },
        {
          "output_type": "execute_result",
          "data": {
            "text/html": [
              "<div>\n",
              "<style scoped>\n",
              "    .dataframe tbody tr th:only-of-type {\n",
              "        vertical-align: middle;\n",
              "    }\n",
              "\n",
              "    .dataframe tbody tr th {\n",
              "        vertical-align: top;\n",
              "    }\n",
              "\n",
              "    .dataframe thead th {\n",
              "        text-align: right;\n",
              "    }\n",
              "</style>\n",
              "<table border=\"1\" class=\"dataframe\">\n",
              "  <thead>\n",
              "    <tr style=\"text-align: right;\">\n",
              "      <th></th>\n",
              "      <th>ID</th>\n",
              "      <th>Title</th>\n",
              "      <th>Author</th>\n",
              "      <th>Date</th>\n",
              "      <th>Post</th>\n",
              "      <th>Flair</th>\n",
              "      <th>Filter</th>\n",
              "    </tr>\n",
              "  </thead>\n",
              "  <tbody>\n",
              "    <tr>\n",
              "      <th>8</th>\n",
              "      <td>5ld227</td>\n",
              "      <td>People went partying tonight</td>\n",
              "      <td>ooops_i_did_it_again</td>\n",
              "      <td>01-01-2017 07:48</td>\n",
              "      <td>Dear randians, since everyone is asking loners...</td>\n",
              "      <td>AskIndia</td>\n",
              "      <td>True</td>\n",
              "    </tr>\n",
              "    <tr>\n",
              "      <th>11</th>\n",
              "      <td>5ld4tn</td>\n",
              "      <td>Record 25 Per Cent Rise In Number Of Indian St...</td>\n",
              "      <td>curiousgeek123</td>\n",
              "      <td>01-01-2017 08:08</td>\n",
              "      <td>NaN</td>\n",
              "      <td>Non-Political</td>\n",
              "      <td>True</td>\n",
              "    </tr>\n",
              "    <tr>\n",
              "      <th>12</th>\n",
              "      <td>5ld9hf</td>\n",
              "      <td>A year outrageous lie From economic growth job...</td>\n",
              "      <td>udi_baaba</td>\n",
              "      <td>01-01-2017 08:42</td>\n",
              "      <td>NaN</td>\n",
              "      <td>Politics</td>\n",
              "      <td>True</td>\n",
              "    </tr>\n",
              "    <tr>\n",
              "      <th>13</th>\n",
              "      <td>5ldbjh</td>\n",
              "      <td>Bhopal Gas Tragedy World Worst Industrial Disa...</td>\n",
              "      <td>[deleted]</td>\n",
              "      <td>01-01-2017 08:58</td>\n",
              "      <td>NaN</td>\n",
              "      <td>Non-Political</td>\n",
              "      <td>True</td>\n",
              "    </tr>\n",
              "    <tr>\n",
              "      <th>15</th>\n",
              "      <td>5ldcop</td>\n",
              "      <td>Indian Saudi Arabia arrested charge blasphemy</td>\n",
              "      <td>TemptNotTheBlade</td>\n",
              "      <td>01-01-2017 09:07</td>\n",
              "      <td>NaN</td>\n",
              "      <td>Non-Political</td>\n",
              "      <td>True</td>\n",
              "    </tr>\n",
              "  </tbody>\n",
              "</table>\n",
              "</div>"
            ],
            "text/plain": [
              "        ID  ... Filter\n",
              "8   5ld227  ...   True\n",
              "11  5ld4tn  ...   True\n",
              "12  5ld9hf  ...   True\n",
              "13  5ldbjh  ...   True\n",
              "15  5ldcop  ...   True\n",
              "\n",
              "[5 rows x 7 columns]"
            ]
          },
          "metadata": {
            "tags": []
          },
          "execution_count": 11
        }
      ]
    },
    {
      "cell_type": "code",
      "metadata": {
        "id": "UuEy7NWnUJhh",
        "colab_type": "code",
        "colab": {
          "base_uri": "https://localhost:8080/",
          "height": 159
        },
        "outputId": "1cbef844-17ef-4e4e-d9f8-91eec5897020"
      },
      "source": [
        "from keras.utils import to_categorical\n",
        "reduced_df[\"Flair\"] = reduced_df[\"Flair\"].astype(\"category\")\n",
        "cat_dict = dict(enumerate(reduced_df['Flair'].cat.categories))\n",
        "encoded = reduced_df[\"Flair\"].cat.codes\n",
        "\n"
      ],
      "execution_count": 12,
      "outputs": [
        {
          "output_type": "stream",
          "text": [
            "Using TensorFlow backend.\n",
            "/usr/local/lib/python3.6/dist-packages/ipykernel_launcher.py:2: SettingWithCopyWarning: \n",
            "A value is trying to be set on a copy of a slice from a DataFrame.\n",
            "Try using .loc[row_indexer,col_indexer] = value instead\n",
            "\n",
            "See the caveats in the documentation: https://pandas.pydata.org/pandas-docs/stable/user_guide/indexing.html#returning-a-view-versus-a-copy\n",
            "  \n"
          ],
          "name": "stderr"
        }
      ]
    },
    {
      "cell_type": "code",
      "metadata": {
        "id": "NoQFZX8qYGFi",
        "colab_type": "code",
        "colab": {}
      },
      "source": [
        "from sklearn.model_selection import StratifiedKFold\n",
        "skf = StratifiedKFold(n_splits=5, shuffle = True, random_state= 42 )\n",
        "for train_index, test_index in skf.split(reduced_df[\"Flair\"].values, encoded):\n",
        "  Xtrain = reduced_df[\"Title\"].values[train_index]\n",
        "  ytrain = encoded.values[train_index]\n",
        "  Xtest = reduced_df[\"Title\"].values[test_index]\n",
        "  ytest = encoded.values[test_index]\n",
        "  break\n"
      ],
      "execution_count": 0,
      "outputs": []
    },
    {
      "cell_type": "code",
      "metadata": {
        "id": "YjkIlK3Uebnh",
        "colab_type": "code",
        "colab": {}
      },
      "source": [
        "from sklearn.feature_extraction.text import TfidfVectorizer\n",
        "vectorizer = TfidfVectorizer(ngram_range=(1, 2),min_df=5,norm='l2',encoding='latin-1', stop_words=\"english\")\n",
        "x_train_tfidf = vectorizer.fit_transform(Xtrain)\n",
        "x_test_tfidf = vectorizer.transform(Xtest)"
      ],
      "execution_count": 0,
      "outputs": []
    },
    {
      "cell_type": "code",
      "metadata": {
        "id": "ozSid_XSwXxb",
        "colab_type": "code",
        "colab": {
          "base_uri": "https://localhost:8080/",
          "height": 202
        },
        "outputId": "a6c8d618-1b1d-4467-fb48-c7267a0993af"
      },
      "source": [
        "df_idf = pd.DataFrame(vectorizer.idf_, index=vectorizer.get_feature_names(),columns=[\"idf_weights\"])\n",
        " \n",
        "# sort ascending\n",
        "df_idf.sort_values(by=['idf_weights']).tail()"
      ],
      "execution_count": 55,
      "outputs": [
        {
          "output_type": "execute_result",
          "data": {
            "text/html": [
              "<div>\n",
              "<style scoped>\n",
              "    .dataframe tbody tr th:only-of-type {\n",
              "        vertical-align: middle;\n",
              "    }\n",
              "\n",
              "    .dataframe tbody tr th {\n",
              "        vertical-align: top;\n",
              "    }\n",
              "\n",
              "    .dataframe thead th {\n",
              "        text-align: right;\n",
              "    }\n",
              "</style>\n",
              "<table border=\"1\" class=\"dataframe\">\n",
              "  <thead>\n",
              "    <tr style=\"text-align: right;\">\n",
              "      <th></th>\n",
              "      <th>idf_weights</th>\n",
              "    </tr>\n",
              "  </thead>\n",
              "  <tbody>\n",
              "    <tr>\n",
              "      <th>new trick</th>\n",
              "      <td>11.598104</td>\n",
              "    </tr>\n",
              "    <tr>\n",
              "      <th>new train</th>\n",
              "      <td>11.598104</td>\n",
              "    </tr>\n",
              "    <tr>\n",
              "      <th>new trade</th>\n",
              "      <td>11.598104</td>\n",
              "    </tr>\n",
              "    <tr>\n",
              "      <th>new worry</th>\n",
              "      <td>11.598104</td>\n",
              "    </tr>\n",
              "    <tr>\n",
              "      <th>ரம</th>\n",
              "      <td>11.598104</td>\n",
              "    </tr>\n",
              "  </tbody>\n",
              "</table>\n",
              "</div>"
            ],
            "text/plain": [
              "           idf_weights\n",
              "new trick    11.598104\n",
              "new train    11.598104\n",
              "new trade    11.598104\n",
              "new worry    11.598104\n",
              "ரம           11.598104"
            ]
          },
          "metadata": {
            "tags": []
          },
          "execution_count": 55
        }
      ]
    },
    {
      "cell_type": "code",
      "metadata": {
        "id": "W79Edgwffbj1",
        "colab_type": "code",
        "colab": {}
      },
      "source": [
        "# from sklearn.feature_selection import SelectPercentile, f_classif\n",
        "# selector = SelectPercentile(f_classif, percentile=10)\n",
        "# selected_train = selector.fit_transform(x_train_tfidf, ytrain).toarray()\n",
        "# selected_test = selector.transform(x_test_tfidf).toarray()"
      ],
      "execution_count": 0,
      "outputs": []
    },
    {
      "cell_type": "code",
      "metadata": {
        "id": "BfWG1fiy0UNc",
        "colab_type": "code",
        "colab": {
          "base_uri": "https://localhost:8080/",
          "height": 35
        },
        "outputId": "598bddb6-b006-4878-ab22-91e1502a0f1a"
      },
      "source": [
        "x_train_tfidf.shape"
      ],
      "execution_count": 56,
      "outputs": [
        {
          "output_type": "execute_result",
          "data": {
            "text/plain": [
              "(240352, 58099)"
            ]
          },
          "metadata": {
            "tags": []
          },
          "execution_count": 56
        }
      ]
    },
    {
      "cell_type": "code",
      "metadata": {
        "id": "2HJf_-Coya3c",
        "colab_type": "code",
        "colab": {
          "base_uri": "https://localhost:8080/",
          "height": 745
        },
        "outputId": "67f733d2-bcb8-4d4e-a36f-04915e09e371"
      },
      "source": [
        "from sklearn.feature_selection import chi2\n",
        "N = 2\n",
        "for category_id, Value in sorted(cat_dict.items()):\n",
        "  features_chi2 = chi2(x_train_tfidf, ytrain == category_id)\n",
        "  indices = np.argsort(features_chi2[0])\n",
        "  feature_names = np.array(vectorizer.get_feature_names())[indices]\n",
        "  unigrams = [v for v in feature_names if len(v.split(' ')) == 1]\n",
        "  bigrams = [v for v in feature_names if len(v.split(' ')) == 2]\n",
        "  print(\"# '{}':\".format(Value))\n",
        "  print(\"  . Most correlated unigrams:\\n. {}\".format('\\n. '.join(unigrams[-N:])))\n",
        "  print(\"  . Most correlated bigrams:\\n. {}\".format('\\n. '.join(bigrams[-N:])))"
      ],
      "execution_count": 57,
      "outputs": [
        {
          "output_type": "stream",
          "text": [
            "# 'AskIndia':\n",
            "  . Most correlated unigrams:\n",
            ". help\n",
            ". askindia\n",
            "  . Most correlated bigrams:\n",
            ". need advice\n",
            ". need help\n",
            "# 'Business/Finance':\n",
            "  . Most correlated unigrams:\n",
            ". manufacturers\n",
            ". grotal\n",
            "  . Most correlated bigrams:\n",
            ". exporters india\n",
            ". manufacturers india\n",
            "# 'Non-Political':\n",
            "  . Most correlated unigrams:\n",
            ". modi\n",
            ". np\n",
            "  . Most correlated bigrams:\n",
            ". rahul gandhi\n",
            ". year old\n",
            "# 'Policy/Economy':\n",
            "  . Most correlated unigrams:\n",
            ". gst\n",
            ". economy\n",
            "  . Most correlated bigrams:\n",
            ". india economy\n",
            ". indian economy\n",
            "# 'Politics':\n",
            "  . Most correlated unigrams:\n",
            ". modi\n",
            ". bjp\n",
            "  . Most correlated bigrams:\n",
            ". rahul gandhi\n",
            ". pm modi\n",
            "# 'Science/Technology':\n",
            "  . Most correlated unigrams:\n",
            ". galaxy\n",
            ". isro\n",
            "  . Most correlated bigrams:\n",
            ". launched india\n",
            ". samsung galaxy\n"
          ],
          "name": "stdout"
        }
      ]
    },
    {
      "cell_type": "code",
      "metadata": {
        "id": "D_bCNSrsgAc3",
        "colab_type": "code",
        "colab": {}
      },
      "source": [
        "# ytrain = to_categorical(ytrain)\n",
        "# ytest = to_categorical(ytest)  "
      ],
      "execution_count": 0,
      "outputs": []
    },
    {
      "cell_type": "code",
      "metadata": {
        "id": "Xl2sH-mSxto-",
        "colab_type": "code",
        "colab": {
          "base_uri": "https://localhost:8080/",
          "height": 52
        },
        "outputId": "4977a838-68d0-49f0-ea5a-80de40752b0e"
      },
      "source": [
        "from sklearn.naive_bayes import MultinomialNB, GaussianNB, BernoulliNB\n",
        "from sklearn.linear_model import LogisticRegression, SGDClassifier\n",
        "from sklearn.svm import SVC, LinearSVC, NuSVC\n",
        "MultiNB = MultinomialNB()\n",
        "MultiNB.fit(x_train_tfidf, ytrain)\n",
        "print(f\"Training Score : {MultiNB.score(x_train_tfidf, ytrain)}\")\n",
        "print(f\"Test Score : {MultiNB.score(x_test_tfidf, ytest)}\")"
      ],
      "execution_count": 59,
      "outputs": [
        {
          "output_type": "stream",
          "text": [
            "Training Score : 0.6791622287311943\n",
            "Test Score : 0.6300758886965784\n"
          ],
          "name": "stdout"
        }
      ]
    },
    {
      "cell_type": "code",
      "metadata": {
        "id": "YzyNVyKzBCRr",
        "colab_type": "code",
        "colab": {
          "base_uri": "https://localhost:8080/",
          "height": 52
        },
        "outputId": "40ba4854-4387-45aa-e088-b32e5ef2e251"
      },
      "source": [
        "print(f\"predicted class for {Xtest[0]} : {cat_dict[MultiNB.predict(x_test_tfidf[0])[0]]}\\nActual class : {cat_dict[ytest[0]]}\")"
      ],
      "execution_count": 69,
      "outputs": [
        {
          "output_type": "stream",
          "text": [
            "predicted class for People went partying tonight : AskIndia\n",
            "Actual class : AskIndia\n"
          ],
          "name": "stdout"
        }
      ]
    },
    {
      "cell_type": "code",
      "metadata": {
        "id": "-OUmToDwDLx1",
        "colab_type": "code",
        "colab": {
          "base_uri": "https://localhost:8080/",
          "height": 87
        },
        "outputId": "50446e9b-d64c-48a0-bad0-4a133b3bc830"
      },
      "source": [
        "svc = LinearSVC()\n",
        "svc.fit(x_train_tfidf, ytrain)\n",
        "print(f\"Training Score : {svc.score(x_train_tfidf, ytrain)}\")\n",
        "print(f\"Test Score : {svc.score(x_test_tfidf, ytest)}\")\n",
        "print(f\"predicted class for {Xtest[0]} : {cat_dict[svc.predict(x_test_tfidf[0])[0]]}\\nActual class : {cat_dict[ytest[0]]}\")"
      ],
      "execution_count": 71,
      "outputs": [
        {
          "output_type": "stream",
          "text": [
            "Training Score : 0.7936276794035415\n",
            "Test Score : 0.6455698309146585\n",
            "predicted class for People went partying tonight : AskIndia\n",
            "Actual class : AskIndia\n"
          ],
          "name": "stdout"
        }
      ]
    },
    {
      "cell_type": "code",
      "metadata": {
        "id": "XifUefgKD4lx",
        "colab_type": "code",
        "colab": {
          "base_uri": "https://localhost:8080/",
          "height": 245
        },
        "outputId": "c802acb3-834c-4bba-eb56-d10c18f0712d"
      },
      "source": [
        "lr = LogisticRegression()\n",
        "lr.fit(x_train_tfidf, ytrain)\n",
        "print(f\"Training Score : {lr.score(x_train_tfidf, ytrain)}\")\n",
        "print(f\"Test Score : {lr.score(x_test_tfidf, ytest)}\")\n",
        "print(f\"predicted class for {Xtest[0]} : {cat_dict[lr.predict(x_test_tfidf[0])[0]]}\\nActual class : {cat_dict[ytest[0]]}\")"
      ],
      "execution_count": 72,
      "outputs": [
        {
          "output_type": "stream",
          "text": [
            "Training Score : 0.7005059246438556\n",
            "Test Score : 0.6514944747703368\n",
            "predicted class for People went partying tonight : Non-Political\n",
            "Actual class : AskIndia\n"
          ],
          "name": "stdout"
        },
        {
          "output_type": "stream",
          "text": [
            "/usr/local/lib/python3.6/dist-packages/sklearn/linear_model/_logistic.py:940: ConvergenceWarning: lbfgs failed to converge (status=1):\n",
            "STOP: TOTAL NO. of ITERATIONS REACHED LIMIT.\n",
            "\n",
            "Increase the number of iterations (max_iter) or scale the data as shown in:\n",
            "    https://scikit-learn.org/stable/modules/preprocessing.html\n",
            "Please also refer to the documentation for alternative solver options:\n",
            "    https://scikit-learn.org/stable/modules/linear_model.html#logistic-regression\n",
            "  extra_warning_msg=_LOGISTIC_SOLVER_CONVERGENCE_MSG)\n"
          ],
          "name": "stderr"
        }
      ]
    },
    {
      "cell_type": "code",
      "metadata": {
        "id": "_eG6QqKmE6IK",
        "colab_type": "code",
        "colab": {
          "base_uri": "https://localhost:8080/",
          "height": 245
        },
        "outputId": "0f0bc03a-4af0-49c7-bf32-f663c8661079"
      },
      "source": [
        "from sklearn.ensemble import VotingClassifier\n",
        "voting = VotingClassifier([('lr',lr), ('svc',svc),(\"nb\",MultiNB)])\n",
        "voting.fit(x_train_tfidf,ytrain)\n",
        "print(f\"Training Score : {voting.score(x_train_tfidf, ytrain)}\")\n",
        "print(f\"Test Score : {voting.score(x_test_tfidf, ytest)}\")\n",
        "print(f\"predicted class for {Xtest[0]} : {cat_dict[voting.predict(x_test_tfidf[0])[0]]}\\nActual class : {cat_dict[ytest[0]]}\")\n"
      ],
      "execution_count": 75,
      "outputs": [
        {
          "output_type": "stream",
          "text": [
            "/usr/local/lib/python3.6/dist-packages/sklearn/linear_model/_logistic.py:940: ConvergenceWarning: lbfgs failed to converge (status=1):\n",
            "STOP: TOTAL NO. of ITERATIONS REACHED LIMIT.\n",
            "\n",
            "Increase the number of iterations (max_iter) or scale the data as shown in:\n",
            "    https://scikit-learn.org/stable/modules/preprocessing.html\n",
            "Please also refer to the documentation for alternative solver options:\n",
            "    https://scikit-learn.org/stable/modules/linear_model.html#logistic-regression\n",
            "  extra_warning_msg=_LOGISTIC_SOLVER_CONVERGENCE_MSG)\n"
          ],
          "name": "stderr"
        },
        {
          "output_type": "stream",
          "text": [
            "Training Score : 0.7293344761017175\n",
            "Test Score : 0.6547397150845427\n",
            "predicted class for People went partying tonight : AskIndia\n",
            "Actual class : AskIndia\n"
          ],
          "name": "stdout"
        }
      ]
    },
    {
      "cell_type": "code",
      "metadata": {
        "id": "OyQVxta0Fvkr",
        "colab_type": "code",
        "colab": {}
      },
      "source": [
        "import pickle\n",
        "models = [voting, lr, svc, MultiNB, vectorizer]\n",
        "names = [\"voting\", \"lr\", \"svc\", \"vectorizer\"]\n",
        "for model , name in zip(models, names):\n",
        "  save_classifier = open(f\"{name}.pickle\",\"wb\")\n",
        "  pickle.dump(model, save_classifier)\n",
        "  save_classifier.close()"
      ],
      "execution_count": 0,
      "outputs": []
    },
    {
      "cell_type": "code",
      "metadata": {
        "id": "GjAsTXfGGt18",
        "colab_type": "code",
        "colab": {
          "base_uri": "https://localhost:8080/",
          "height": 915
        },
        "outputId": "9f9165db-4261-4226-82c3-723a6b75dc00"
      },
      "source": [
        "from sklearn import metrics\n",
        "pred = voting.predict(x_test_tfidf)\n",
        "cm=metrics.confusion_matrix(ytest,pred)\n",
        "cm = pd.DataFrame(cm, index = cat_dict.items(), columns=cat_dict.items())\n",
        "plt.figure(figsize = (15,15))\n",
        "sns.heatmap(cm, annot = True)\n",
        "plt.title(\"Confusion Matrix for Voting Classifier\")"
      ],
      "execution_count": 82,
      "outputs": [
        {
          "output_type": "execute_result",
          "data": {
            "text/plain": [
              "Text(0.5, 1.0, 'Confusion Matrix for Voting Classifier')"
            ]
          },
          "metadata": {
            "tags": []
          },
          "execution_count": 82
        },
        {
          "output_type": "display_data",
          "data": {
            "image/png": "[encoded data removed]",
            "text/plain": [
              "<Figure size 1080x1080 with 2 Axes>"
            ]
          },
          "metadata": {
            "tags": [],
            "needs_background": "light"
          }
        }
      ]
    },
    {
      "cell_type": "markdown",
      "metadata": {
        "id": "Ga81t_JOHxH1",
        "colab_type": "text"
      },
      "source": [
        "All the correct predictions are in order of 10^3 and all the false predictions are in order of 10^2, so the performance of the model is decent.(except for the categories that are dominant)\n",
        "\n",
        "The model is biased but in this case we want it to represent and predict on real time distribution of data."
      ]
    }
  ]
}